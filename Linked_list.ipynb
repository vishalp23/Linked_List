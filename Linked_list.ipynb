{
 "cells": [
  {
   "cell_type": "markdown",
   "metadata": {},
   "source": [
    "# Linked List"
   ]
  },
  {
   "cell_type": "markdown",
   "metadata": {},
   "source": [
    "##### The `node` class defines a basic structure for a single element in a linked list. It contains two attributes: `data`, which stores the value of the node, and `next`, which is a reference to the next node in the list. This setup allows for the creation of a sequence of nodes, forming a linked list."
   ]
  },
  {
   "cell_type": "code",
   "execution_count": 519,
   "metadata": {},
   "outputs": [],
   "source": [
    "class node:\n",
    "    def __init__(self,data=None) :\n",
    "        self.data=data\n",
    "        self.next=None"
   ]
  },
  {
   "cell_type": "markdown",
   "metadata": {},
   "source": [
    "##### The constructor `__init__` method of the `linked_list` class initializes an empty linked list. It creates a `head` node which is an instance of the `node` class with no data (`data=None`). This `head` node acts as a dummy node to simplify the implementation of various list operations."
   ]
  },
  {
   "cell_type": "code",
   "execution_count": 520,
   "metadata": {},
   "outputs": [],
   "source": [
    "class linked_list:\n",
    "    def __init__(self):\n",
    "        self.head=node()"
   ]
  },
  {
   "cell_type": "markdown",
   "metadata": {},
   "source": [
    "##### The `append` function adds a new node with the given data to the end of the linked list. First, it creates a new node using the `node` class, passing the `data` as an argument to initialize it. The function then starts at the `head` node and traverses the list by following the `next` references of each node. It continues this process until it finds the last node, which is identified by having its `next` reference set to `None`. Once the last node is found, the function updates its `next` reference to point to the newly created node, effectively adding the new node to the end of the list. The line `linked_list.append = append` binds this function to the `linked_list` class, making it an instance method of the class."
   ]
  },
  {
   "cell_type": "code",
   "execution_count": 521,
   "metadata": {},
   "outputs": [],
   "source": [
    "#append function to add data data to the linked list \n",
    "def append(self,data):\n",
    "    new_node=node(data)\n",
    "    cur=self.head\n",
    "    while cur.next!=None:\n",
    "        cur=cur.next\n",
    "    cur.next=new_node\n",
    "\n",
    "linked_list.append=append"
   ]
  },
  {
   "cell_type": "markdown",
   "metadata": {},
   "source": [
    "##### The `length` function calculates the number of nodes in the linked list. It initializes a counter variable `total` to zero and starts traversing the list from the `head` node. For each node it encounters, it increments the `total` counter by one and moves to the next node by updating `cur` to `cur.next`. This process continues until it reaches the last node, identified by `cur.next` being `None`. Finally, the function returns the `total` count, which represents the length of the linked list. The line `linked_list.length = length` binds this function to the `linked_list` class, making it an instance method of the class."
   ]
  },
  {
   "cell_type": "code",
   "execution_count": 522,
   "metadata": {},
   "outputs": [],
   "source": [
    "#length function to find length of the length of the linked list\n",
    "def length(self):\n",
    "    total=0\n",
    "    cur=self.head\n",
    "    while cur.next!=None:\n",
    "        total+=1\n",
    "        cur=cur.next\n",
    "    return total\n",
    "\n",
    "linked_list.length=length"
   ]
  },
  {
   "cell_type": "markdown",
   "metadata": {},
   "source": [
    "##### The `display` function prints all the data elements in the linked list. It initializes an empty list `elems` to hold the data values and starts traversing the list from the first actual data node (`self.head.next`). As it traverses each node, it appends the `data` of each node to the `elems` list. This process continues until it reaches the end of the list, where `cur_node` becomes `None`. Finally, the function prints the `elems` list, showing all the data elements in the linked list. The line `linked_list.display = display` binds this function to the `linked_list` class, making it an instance method of the class."
   ]
  },
  {
   "cell_type": "code",
   "execution_count": 523,
   "metadata": {},
   "outputs": [],
   "source": [
    "#display function to display data of the linked list\n",
    "def display(self):\n",
    "    elems=[]\n",
    "    cur_node=self.head.next\n",
    "    while cur_node:\n",
    "        elems.append(cur_node.data)\n",
    "        cur_node=cur_node.next\n",
    "    print(elems)\n",
    "\n",
    "linked_list.display=display"
   ]
  },
  {
   "cell_type": "markdown",
   "metadata": {},
   "source": [
    "##### The `get` function retrieves the data stored at a specified index in the linked list. First, it checks if the provided index is out of bounds by comparing it to the length of the list using `self.length()`. If the index is invalid, it prints an error message and returns `None`. If the index is valid, it initializes a counter `cur_idx` to zero and starts traversing the list from the `head` node. It moves through the list by updating `cur_node` to `cur_node.next` and increments the counter `cur_idx` at each step. When `cur_idx` matches the desired index, it returns the `data` of the current node. The line `linked_list.get = get` binds this function to the `linked_list` class, making it an instance method of the class."
   ]
  },
  {
   "cell_type": "code",
   "execution_count": 524,
   "metadata": {},
   "outputs": [],
   "source": [
    "#get function to get data at a given index of the linked list\n",
    "def get(self,index):\n",
    "    if index>=self.length():\n",
    "        print(\"erroe\")\n",
    "        return None\n",
    "    cur_idx=0\n",
    "    cur_node=self.head\n",
    "    while True:\n",
    "        cur_node=cur_node.next\n",
    "        if cur_idx==index:\n",
    "            return cur_node.data\n",
    "        cur_idx+=1\n",
    "\n",
    "linked_list.get=get"
   ]
  },
  {
   "cell_type": "markdown",
   "metadata": {},
   "source": [
    "##### The `erase` function removes the node at a specified index from the linked list. First, it checks if the provided index is out of bounds by comparing it to the length of the list using `self.length()`. If the index is invalid, it prints an error message and returns `None`. If the index is valid, it initializes a counter `cur_idx` to zero and starts traversing the list from the `head` node. During traversal, it keeps track of the current node (`cur_node`) and the previous node (`last_node`). When `cur_idx` matches the desired index, it adjusts the `next` reference of the previous node (`last_node`) to skip the current node (`cur_node`), effectively removing it from the list. The line `linked_list.erase = erase` binds this function to the `linked_list` class, making it an instance method of the class."
   ]
  },
  {
   "cell_type": "code",
   "execution_count": 525,
   "metadata": {},
   "outputs": [],
   "source": [
    "#erase function to erase data from a given index of the linked list\n",
    "def erase(self,index):\n",
    "    if index>=self.length():\n",
    "        print(\"erroe\")\n",
    "        return None\n",
    "    cur_idx=0\n",
    "    len=self.length()\n",
    "    print(len)\n",
    "    pos=len-index\n",
    "    cur_node=self.head\n",
    "    while True:\n",
    "        last_node=cur_node\n",
    "        cur_node=cur_node.next\n",
    "        if cur_idx==pos:\n",
    "            last_node.next=cur_node.next\n",
    "            return\n",
    "        cur_idx+=1\n",
    "\n",
    "linked_list.erase=erase"
   ]
  },
  {
   "cell_type": "code",
   "execution_count": 526,
   "metadata": {},
   "outputs": [
    {
     "name": "stdout",
     "output_type": "stream",
     "text": [
      "[1, 2, 3, 4, 5, 6, 7, 8]\n",
      "Fetch data at a given index 4 = 5\n",
      "8\n",
      "Erase data a given index 3  \n",
      "[1, 2, 3, 4, 5, 7, 8]\n"
     ]
    }
   ],
   "source": [
    "my_list=linked_list()\n",
    "\n",
    "my_list.append(1)\n",
    "my_list.append(2)\n",
    "my_list.append(3)\n",
    "my_list.append(4)\n",
    "my_list.append(5)\n",
    "my_list.append(6)\n",
    "my_list.append(7)\n",
    "my_list.append(8)\n",
    "\n",
    "my_list.display()\n",
    "\n",
    "index=int(input(\"Enter index\"))\n",
    "print(\"Fetch data at a given index %d = %d\" % (index, my_list.get(index)))\n",
    "idx=int(input())\n",
    "my_list.erase(idx)\n",
    "print(\"Erase data a given index %d  \" % idx)\n",
    "\n",
    "my_list.display()\n"
   ]
  },
  {
   "cell_type": "markdown",
   "metadata": {},
   "source": [
    "##### The `insert_start` method is designed to insert a new node at the beginning of the linked list. It first creates a new node with the provided `data`. Then, it sets the `next` pointer of the new node to point to the current first real node (`self.head.next`). Finally, it updates the `next` pointer of the head (which is typically a dummy node) to point to this new node, effectively making it the first node in the list. This method ensures that the new node is inserted at the start of the list, right after the head."
   ]
  },
  {
   "cell_type": "code",
   "execution_count": 527,
   "metadata": {},
   "outputs": [],
   "source": [
    "def insert_start(self,data):\n",
    "    new_node=node(data)\n",
    "    new_node.next=self.head.next\n",
    "    self.head.next=new_node                     \n",
    "    \n",
    "linked_list.insert_start=insert_start"
   ]
  },
  {
   "cell_type": "markdown",
   "metadata": {},
   "source": [
    "##### The `insert_at_index` method inserts a new node at a specific index in the linked list. It first checks if the provided index is valid by comparing it with the current length of the list; if the index is out of bounds, it prints an error message and exits. The method then creates a new node with the given `data` and traverses the list up to the node just before the desired index. After reaching the correct position, it adjusts the pointers: the new node's `next` is set to the current node's `next`, and the current node's `next` is updated to point to the new node, effectively inserting it at the specified index. This method allows precise control over where new data is inserted within the list."
   ]
  },
  {
   "cell_type": "code",
   "execution_count": 528,
   "metadata": {},
   "outputs": [],
   "source": [
    "def insert_at_index(self,index,data):\n",
    "    if index>=self.length():\n",
    "        print(\"Error\")\n",
    "        return\n",
    "    new_node=node(data)\n",
    "    cur_node=self.head\n",
    "\n",
    "    for i in range(index):\n",
    "        if cur_node.next== None:\n",
    "            print(\"Index out of bound\")\n",
    "            return\n",
    "        cur_node=cur_node.next\n",
    "    \n",
    "    new_node.next=cur_node.next\n",
    "    cur_node.next=new_node\n",
    "\n",
    "linked_list.insert_at_index=insert_at_index\n",
    "\n"
   ]
  },
  {
   "cell_type": "markdown",
   "metadata": {},
   "source": [
    "### FIND MIDDLE NODE"
   ]
  },
  {
   "cell_type": "code",
   "execution_count": 529,
   "metadata": {},
   "outputs": [],
   "source": [
    "def find_middle_node(self):\n",
    "    slow=fast=self.head\n",
    "\n",
    "    while fast and fast.next:\n",
    "        slow=slow.next\n",
    "        fast=fast.next.next\n",
    "\n",
    "    return slow\n",
    "linked_list.find_middle_node=find_middle_node"
   ]
  },
  {
   "cell_type": "code",
   "execution_count": 530,
   "metadata": {},
   "outputs": [
    {
     "name": "stdout",
     "output_type": "stream",
     "text": [
      "[1, 2, 3, 4, 5, 7, 8]\n",
      "4\n"
     ]
    }
   ],
   "source": [
    "my_list.display()\n",
    "middle_node=my_list.find_middle_node()\n",
    "print(middle_node.data)"
   ]
  },
  {
   "cell_type": "markdown",
   "metadata": {},
   "source": [
    "### CYCLE IN LIST"
   ]
  },
  {
   "cell_type": "code",
   "execution_count": 531,
   "metadata": {},
   "outputs": [
    {
     "name": "stdout",
     "output_type": "stream",
     "text": [
      "No Cycle in the list\n"
     ]
    }
   ],
   "source": [
    "def Cycle_list(self):\n",
    "    slow=fast=self.head\n",
    "    total=0\n",
    "\n",
    "    while fast and fast.next:\n",
    "       \n",
    "        slow=slow.next\n",
    "        fast=fast.next.next\n",
    "        total+=1\n",
    "        \n",
    "        if slow==fast:\n",
    "            print(total)\n",
    "            \n",
    "    print(\"No Cycle in the list\")\n",
    "linked_list.Cycle_list=Cycle_list\n",
    "my_list.Cycle_list()"
   ]
  },
  {
   "cell_type": "markdown",
   "metadata": {},
   "source": [
    "### REVERSE A LIST"
   ]
  },
  {
   "cell_type": "code",
   "execution_count": 532,
   "metadata": {},
   "outputs": [],
   "source": [
    "def reverse_list(self):\n",
    "    prev=None\n",
    "    current=self.head.next\n",
    "\n",
    "    while current:\n",
    "        next_node=current.next\n",
    "        current.next=prev\n",
    "        prev=current\n",
    "        current=next_node\n",
    "    self.head.next=prev\n",
    "   \n",
    "    \n",
    "linked_list.reverse_list=reverse_list\n",
    "\n"
   ]
  },
  {
   "cell_type": "code",
   "execution_count": 533,
   "metadata": {},
   "outputs": [
    {
     "name": "stdout",
     "output_type": "stream",
     "text": [
      "[1, 2, 3, 4, 5, 7, 8]\n",
      "[8, 7, 5, 4, 3, 2, 1]\n"
     ]
    }
   ],
   "source": [
    "my_list.display()\n",
    "my_list.reverse_list()\n",
    "my_list.display()"
   ]
  },
  {
   "cell_type": "code",
   "execution_count": 534,
   "metadata": {},
   "outputs": [],
   "source": [
    "def reverse_split_list(head):\n",
    "    prev=None\n",
    "    cur=head\n",
    "\n",
    "    while cur:\n",
    "        next_node=cur.next\n",
    "        cur.next=prev\n",
    "        prev=cur\n",
    "        cur=next_node\n",
    "    return prev\n",
    "\n",
    "def reorder_list(self):\n",
    "    slow=fast=self.head\n",
    "\n",
    "    while fast and fast.next:\n",
    "        slow=slow.next\n",
    "        fast=fast.next.next\n",
    "        \n",
    "    second_list=slow.next\n",
    "    slow.next=None\n",
    "        \n",
    "    first_list=self.head\n",
    "\n",
    "    second_list= reverse_split_list(second_list)\n",
    "\n",
    "    dummy=current=node()\n",
    "\n",
    "    while first_list and second_list:\n",
    "        current.next=first_list\n",
    "        first_list=first_list.next\n",
    "        current=current.next\n",
    "\n",
    "        current.next=second_list\n",
    "        second_list=second_list.next\n",
    "        current=current.next\n",
    "\n",
    "    if first_list:\n",
    "        current.next=first_list\n",
    "\n",
    "    merge_list=dummy.next      \n",
    "linked_list.reorder_list=reorder_list\n",
    "\n"
   ]
  },
  {
   "cell_type": "code",
   "execution_count": 535,
   "metadata": {},
   "outputs": [
    {
     "name": "stdout",
     "output_type": "stream",
     "text": [
      "[1, 8, 2, 7, 3, 5, 4]\n"
     ]
    }
   ],
   "source": [
    "my_list.reorder_list()\n",
    "my_list.display()"
   ]
  }
 ],
 "metadata": {
  "kernelspec": {
   "display_name": "Python 3",
   "language": "python",
   "name": "python3"
  },
  "language_info": {
   "codemirror_mode": {
    "name": "ipython",
    "version": 3
   },
   "file_extension": ".py",
   "mimetype": "text/x-python",
   "name": "python",
   "nbconvert_exporter": "python",
   "pygments_lexer": "ipython3",
   "version": "3.9.6"
  }
 },
 "nbformat": 4,
 "nbformat_minor": 2
}
