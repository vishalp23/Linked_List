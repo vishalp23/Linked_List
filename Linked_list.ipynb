{
 "cells": [
  {
   "cell_type": "markdown",
   "metadata": {},
   "source": [
    "# Linked List"
   ]
  },
  {
   "cell_type": "markdown",
   "metadata": {},
   "source": [
    "##### The `node` class defines a basic structure for a single element in a linked list. It contains two attributes: `data`, which stores the value of the node, and `next`, which is a reference to the next node in the list. This setup allows for the creation of a sequence of nodes, forming a linked list."
   ]
  },
  {
   "cell_type": "code",
   "execution_count": 1,
   "metadata": {},
   "outputs": [],
   "source": [
    "class node:\n",
    "    def __init__(self,data=None) :\n",
    "        self.data=data\n",
    "        self.next=None"
   ]
  },
  {
   "cell_type": "markdown",
   "metadata": {},
   "source": [
    "##### The constructor `__init__` method of the `linked_list` class initializes an empty linked list. It creates a `head` node which is an instance of the `node` class with no data (`data=None`). This `head` node acts as a dummy node to simplify the implementation of various list operations."
   ]
  },
  {
   "cell_type": "code",
   "execution_count": 6,
   "metadata": {},
   "outputs": [],
   "source": [
    "class linked_list:\n",
    "    def __init__(self):\n",
    "        self.head=node()"
   ]
  },
  {
   "cell_type": "markdown",
   "metadata": {},
   "source": [
    "##### The `append` function adds a new node with the given data to the end of the linked list. First, it creates a new node using the `node` class, passing the `data` as an argument to initialize it. The function then starts at the `head` node and traverses the list by following the `next` references of each node. It continues this process until it finds the last node, which is identified by having its `next` reference set to `None`. Once the last node is found, the function updates its `next` reference to point to the newly created node, effectively adding the new node to the end of the list. The line `linked_list.append = append` binds this function to the `linked_list` class, making it an instance method of the class."
   ]
  },
  {
   "cell_type": "code",
   "execution_count": 8,
   "metadata": {},
   "outputs": [],
   "source": [
    "#append function to add data data to the linked list \n",
    "def append(self,data):\n",
    "    new_node=node(data)\n",
    "    cur=self.head\n",
    "    while cur.next!=None:\n",
    "        cur=cur.next\n",
    "    cur.next=new_node\n",
    "\n",
    "linked_list.append=append"
   ]
  },
  {
   "cell_type": "markdown",
   "metadata": {},
   "source": [
    "##### The `length` function calculates the number of nodes in the linked list. It initializes a counter variable `total` to zero and starts traversing the list from the `head` node. For each node it encounters, it increments the `total` counter by one and moves to the next node by updating `cur` to `cur.next`. This process continues until it reaches the last node, identified by `cur.next` being `None`. Finally, the function returns the `total` count, which represents the length of the linked list. The line `linked_list.length = length` binds this function to the `linked_list` class, making it an instance method of the class."
   ]
  },
  {
   "cell_type": "code",
   "execution_count": 9,
   "metadata": {},
   "outputs": [],
   "source": [
    "#length function to find length of the length of the linked list\n",
    "def length(self):\n",
    "    total=0\n",
    "    cur=self.head\n",
    "    while cur.next!=None:\n",
    "        total+=1\n",
    "        cur=cur.next\n",
    "    return total\n",
    "\n",
    "linked_list.length=length"
   ]
  },
  {
   "cell_type": "markdown",
   "metadata": {},
   "source": [
    "##### The `display` function prints all the data elements in the linked list. It initializes an empty list `elems` to hold the data values and starts traversing the list from the first actual data node (`self.head.next`). As it traverses each node, it appends the `data` of each node to the `elems` list. This process continues until it reaches the end of the list, where `cur_node` becomes `None`. Finally, the function prints the `elems` list, showing all the data elements in the linked list. The line `linked_list.display = display` binds this function to the `linked_list` class, making it an instance method of the class."
   ]
  },
  {
   "cell_type": "code",
   "execution_count": 11,
   "metadata": {},
   "outputs": [],
   "source": [
    "#display function to display data of the linked list\n",
    "def display(self):\n",
    "    elems=[]\n",
    "    cur_node=self.head.next\n",
    "    while cur_node!=None:\n",
    "        elems.append(cur_node.data)\n",
    "        cur_node=cur_node.next\n",
    "    print(elems)\n",
    "\n",
    "linked_list.display=display"
   ]
  },
  {
   "cell_type": "markdown",
   "metadata": {},
   "source": [
    "##### The `get` function retrieves the data stored at a specified index in the linked list. First, it checks if the provided index is out of bounds by comparing it to the length of the list using `self.length()`. If the index is invalid, it prints an error message and returns `None`. If the index is valid, it initializes a counter `cur_idx` to zero and starts traversing the list from the `head` node. It moves through the list by updating `cur_node` to `cur_node.next` and increments the counter `cur_idx` at each step. When `cur_idx` matches the desired index, it returns the `data` of the current node. The line `linked_list.get = get` binds this function to the `linked_list` class, making it an instance method of the class."
   ]
  },
  {
   "cell_type": "code",
   "execution_count": 12,
   "metadata": {},
   "outputs": [],
   "source": [
    "#get function to get data at a given index of the linked list\n",
    "def get(self,index):\n",
    "    if index>=self.length():\n",
    "        print(\"erroe\")\n",
    "        return None\n",
    "    cur_idx=0\n",
    "    cur_node=self.head\n",
    "    while True:\n",
    "        cur_node=cur_node.next\n",
    "        if cur_idx==index:\n",
    "            return cur_node.data\n",
    "        cur_idx+=1\n",
    "\n",
    "linked_list.get=get"
   ]
  },
  {
   "cell_type": "markdown",
   "metadata": {},
   "source": [
    "##### The `erase` function removes the node at a specified index from the linked list. First, it checks if the provided index is out of bounds by comparing it to the length of the list using `self.length()`. If the index is invalid, it prints an error message and returns `None`. If the index is valid, it initializes a counter `cur_idx` to zero and starts traversing the list from the `head` node. During traversal, it keeps track of the current node (`cur_node`) and the previous node (`last_node`). When `cur_idx` matches the desired index, it adjusts the `next` reference of the previous node (`last_node`) to skip the current node (`cur_node`), effectively removing it from the list. The line `linked_list.erase = erase` binds this function to the `linked_list` class, making it an instance method of the class."
   ]
  },
  {
   "cell_type": "code",
   "execution_count": 14,
   "metadata": {},
   "outputs": [],
   "source": [
    "#erase function to erase data from a given index of the linked list\n",
    "def erase(self,index):\n",
    "    if index>=self.length():\n",
    "        print(\"erroe\")\n",
    "        return None\n",
    "    cur_idx=0\n",
    "    cur_node=self.head\n",
    "    while True:\n",
    "        last_node=cur_node\n",
    "        cur_node=cur_node.next\n",
    "        if cur_idx==index:\n",
    "            last_node.next=cur_node.next\n",
    "            return\n",
    "        cur_idx+=1\n",
    "\n",
    "linked_list.erase=erase"
   ]
  },
  {
   "cell_type": "code",
   "execution_count": null,
   "metadata": {},
   "outputs": [],
   "source": [
    "my_list=linked_list()\n",
    "\n",
    "my_list.append(1)\n",
    "my_list.append(2)\n",
    "my_list.display()\n",
    "my_list.get(1)"
   ]
  }
 ],
 "metadata": {
  "kernelspec": {
   "display_name": "Python 3",
   "language": "python",
   "name": "python3"
  },
  "language_info": {
   "codemirror_mode": {
    "name": "ipython",
    "version": 3
   },
   "file_extension": ".py",
   "mimetype": "text/x-python",
   "name": "python",
   "nbconvert_exporter": "python",
   "pygments_lexer": "ipython3",
   "version": "3.9.6"
  }
 },
 "nbformat": 4,
 "nbformat_minor": 2
}
