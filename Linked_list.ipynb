{
 "cells": [
  {
   "cell_type": "markdown",
   "metadata": {},
   "source": [
    "# Linked List"
   ]
  },
  {
   "cell_type": "markdown",
   "metadata": {},
   "source": [
    "##### The `node` class defines a basic structure for a single element in a linked list. It contains two attributes: `data`, which stores the value of the node, and `next`, which is a reference to the next node in the list. This setup allows for the creation of a sequence of nodes, forming a linked list."
   ]
  },
  {
   "cell_type": "code",
   "execution_count": 1,
   "metadata": {},
   "outputs": [],
   "source": [
    "class node:\n",
    "    def __init__(self,data=None) :\n",
    "        self.data=data\n",
    "        self.next=None"
   ]
  },
  {
   "cell_type": "code",
   "execution_count": 6,
   "metadata": {},
   "outputs": [],
   "source": [
    "class linked_list:\n",
    "    def __init__(self):\n",
    "        self.head=node()"
   ]
  },
  {
   "cell_type": "code",
   "execution_count": 8,
   "metadata": {},
   "outputs": [],
   "source": [
    "#append function to add data data to the linked list \n",
    "def append(self,data):\n",
    "    new_node=node(data)\n",
    "    cur=self.head\n",
    "    while cur.next!=None:\n",
    "        cur=cur.next\n",
    "    cur.next=new_node\n",
    "\n",
    "linked_list.append=append"
   ]
  },
  {
   "cell_type": "code",
   "execution_count": 9,
   "metadata": {},
   "outputs": [],
   "source": [
    "#length function to find length of the length of the linked list\n",
    "def length(self):\n",
    "    total=0\n",
    "    cur=self.head\n",
    "    while cur.next!=None:\n",
    "        total+=1\n",
    "        cur=cur.next\n",
    "    return total\n",
    "\n",
    "linked_list.length=length"
   ]
  },
  {
   "cell_type": "code",
   "execution_count": 11,
   "metadata": {},
   "outputs": [],
   "source": [
    "#display function to display data of the linked list\n",
    "def display(self):\n",
    "    elems=[]\n",
    "    cur_node=self.head.next\n",
    "    while cur_node!=None:\n",
    "        elems.append(cur_node.data)\n",
    "        cur_node=cur_node.next\n",
    "    print(elems)\n",
    "\n",
    "linked_list.display=display"
   ]
  },
  {
   "cell_type": "code",
   "execution_count": 12,
   "metadata": {},
   "outputs": [],
   "source": [
    "#get function to get data at a given index of the linked list\n",
    "def get(self,index):\n",
    "    if index>=self.length():\n",
    "        print(\"erroe\")\n",
    "        return None\n",
    "    cur_idx=0\n",
    "    cur_node=self.head\n",
    "    while True:\n",
    "        cur_node=cur_node.next\n",
    "        if cur_idx==index:\n",
    "            return cur_node.data\n",
    "        cur_idx+=1\n",
    "\n",
    "linked_list.get=get"
   ]
  },
  {
   "cell_type": "code",
   "execution_count": 14,
   "metadata": {},
   "outputs": [],
   "source": [
    "#erase function to erase data from a given index of the linked list\n",
    "def erase(self,index):\n",
    "    if index>=self.length():\n",
    "        print(\"erroe\")\n",
    "        return None\n",
    "    cur_idx=0\n",
    "    cur_node=self.head\n",
    "    while True:\n",
    "        last_node=cur_node\n",
    "        cur_node=cur_node.next\n",
    "        if cur_idx==index:\n",
    "            last_node.next=cur_node.next\n",
    "            return\n",
    "        cur_idx+=1\n",
    "\n",
    "linked_list.erase=erase"
   ]
  },
  {
   "cell_type": "code",
   "execution_count": 15,
   "metadata": {},
   "outputs": [
    {
     "name": "stdout",
     "output_type": "stream",
     "text": [
      "[1, 2]\n"
     ]
    },
    {
     "data": {
      "text/plain": [
       "2"
      ]
     },
     "execution_count": 15,
     "metadata": {},
     "output_type": "execute_result"
    }
   ],
   "source": [
    "my_list=linked_list()\n",
    "\n",
    "my_list.append(1)\n",
    "my_list.append(2)\n",
    "my_list.display()\n",
    "my_list.get(1)"
   ]
  }
 ],
 "metadata": {
  "kernelspec": {
   "display_name": "Python 3",
   "language": "python",
   "name": "python3"
  },
  "language_info": {
   "codemirror_mode": {
    "name": "ipython",
    "version": 3
   },
   "file_extension": ".py",
   "mimetype": "text/x-python",
   "name": "python",
   "nbconvert_exporter": "python",
   "pygments_lexer": "ipython3",
   "version": "3.9.6"
  }
 },
 "nbformat": 4,
 "nbformat_minor": 2
}
