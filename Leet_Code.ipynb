{
 "cells": [
  {
   "cell_type": "markdown",
   "metadata": {},
   "source": [
    "### ADD TWO NUMBERS"
   ]
  },
  {
   "cell_type": "code",
   "execution_count": 1,
   "metadata": {},
   "outputs": [],
   "source": [
    "from typing import Optional\n",
    "\n",
    "class ListNode:\n",
    "    def __init__(self, val=0, next=None):\n",
    "        self.val = val\n",
    "        self.next = next\n",
    "        \n",
    "class Solution:\n",
    "    def addTwoNumbers(self, l1: Optional[ListNode], l2: Optional[ListNode]) -> Optional[ListNode]:\n",
    "        dummy=cur=ListNode()\n",
    "        carryover=0\n",
    "\n",
    "        while l1 or l2:\n",
    "            d=carryover\n",
    "            if l1 and l2:\n",
    "                d+=l1.val+l2.val\n",
    "                l1=l1.next\n",
    "                l2=l2.next\n",
    "            elif l1:\n",
    "                d+=l1.val\n",
    "                l1=l1.next\n",
    "            elif l2:\n",
    "                d+=l2.val\n",
    "                l2=l2.next\n",
    "            carryover= d//10\n",
    "            cur.next=ListNode(d%10)\n",
    "            cur=cur.next\n",
    "        if carryover==1:cur.next=ListNode(1)\n",
    "        print(dummy.next)"
   ]
  },
  {
   "cell_type": "code",
   "execution_count": 2,
   "metadata": {},
   "outputs": [],
   "source": [
    "class Solution:\n",
    "    def addTwoNumbers(self, l1: Optional[ListNode], l2: Optional[ListNode]) -> Optional[ListNode]:\n",
    "        dummy=cur=ListNode()\n",
    "        carryover=0\n",
    "\n",
    "        while l1 or l2 or carryover:\n",
    "            v1=l1.val if l1 else 0\n",
    "            v2=l2.val if l2 else 0\n",
    "\n",
    "            val=v1+v2+carryover\n",
    "            carryover= val // 10\n",
    "            val=val%10\n",
    "            cur.next=ListNode(val)\n",
    "\n",
    "            cur=cur.next\n",
    "            l1=l1.next if l1 else None\n",
    "            l2=l2.next if l2 else None\n",
    "\n",
    "        return dummy.next"
   ]
  }
 ],
 "metadata": {
  "kernelspec": {
   "display_name": "Python 3",
   "language": "python",
   "name": "python3"
  },
  "language_info": {
   "codemirror_mode": {
    "name": "ipython",
    "version": 3
   },
   "file_extension": ".py",
   "mimetype": "text/x-python",
   "name": "python",
   "nbconvert_exporter": "python",
   "pygments_lexer": "ipython3",
   "version": "3.9.6"
  }
 },
 "nbformat": 4,
 "nbformat_minor": 2
}
