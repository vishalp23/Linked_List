{
 "cells": [
  {
   "cell_type": "code",
   "execution_count": 39,
   "metadata": {},
   "outputs": [],
   "source": [
    "from typing import Optional\n",
    "\n",
    "class ListNode:\n",
    "    def __init__(self, val=0, next=None):\n",
    "        self.val = val\n",
    "        self.next = next\n",
    "    "
   ]
  },
  {
   "cell_type": "markdown",
   "metadata": {},
   "source": [
    "### 1.ADD TWO NUMBERS"
   ]
  },
  {
   "cell_type": "code",
   "execution_count": 40,
   "metadata": {},
   "outputs": [],
   "source": [
    "class Solution:\n",
    "    def addTwoNumbers(self, l1: Optional[ListNode], l2: Optional[ListNode]) -> Optional[ListNode]:\n",
    "        dummy=cur=ListNode()\n",
    "        carryover=0\n",
    "\n",
    "        while l1 or l2 or carryover:\n",
    "            v1=l1.val if l1 else 0\n",
    "            v2=l2.val if l2 else 0\n",
    "\n",
    "            val=v1+v2+carryover\n",
    "            carryover= val // 10\n",
    "            val=val%10\n",
    "            cur.next=ListNode(val)\n",
    "\n",
    "            cur=cur.next\n",
    "            l1=l1.next if l1 else None\n",
    "            l2=l2.next if l2 else None\n",
    "\n",
    "        return dummy.next"
   ]
  },
  {
   "cell_type": "markdown",
   "metadata": {},
   "source": [
    "### 2.CYCLES IN LINKED LIST"
   ]
  },
  {
   "cell_type": "code",
   "execution_count": 41,
   "metadata": {},
   "outputs": [],
   "source": [
    "class Solution:\n",
    "    def hasCycle(self, head: Optional[ListNode]) :\n",
    "        slow = fast=head\n",
    "        \n",
    "\n",
    "        while fast and fast.next :\n",
    "            slow=slow.next\n",
    "            fast=fast.next.next\n",
    "            if slow==fast:\n",
    "                return True\n",
    "        return False\n",
    "            \n",
    "     "
   ]
  },
  {
   "cell_type": "markdown",
   "metadata": {},
   "source": [
    "### 3.CYCLE IN LIST II"
   ]
  },
  {
   "cell_type": "code",
   "execution_count": 42,
   "metadata": {},
   "outputs": [],
   "source": [
    "class Solution:\n",
    "    def hasCycle(self, head: Optional[ListNode]) :\n",
    "        slow = fast=head\n",
    "        \n",
    "\n",
    "        while fast and fast.next and slow!=fast:\n",
    "            slow=slow.next\n",
    "            fast=fast.next.next\n",
    "            \n",
    "            if slow==fast:\n",
    "                cycle_start=0\n",
    "                while cycle_start!=slow:\n",
    "                    cycle_start=cycle_start.next\n",
    "                    slow=slow.next\n",
    "                print(\"found cycle\")\n",
    "                return cycle_start\n",
    "        \n",
    "        print(\"No cycle found\")\n",
    "        return None   \n"
   ]
  },
  {
   "cell_type": "markdown",
   "metadata": {},
   "source": [
    "### 4.REORDER LIST"
   ]
  },
  {
   "cell_type": "code",
   "execution_count": 43,
   "metadata": {},
   "outputs": [],
   "source": [
    "class Solution:\n",
    "    def reverse_split_list(self, head: Optional[ListNode]) -> Optional[ListNode]:\n",
    "        prev = None\n",
    "        current = head\n",
    "        while current:\n",
    "            next_node = current.next\n",
    "            current.next = prev\n",
    "            prev = current\n",
    "            current = next_node\n",
    "        return prev\n",
    "\n",
    "    def reorderList(self, head: Optional[ListNode]) -> None:\n",
    "        if not head or not head.next:\n",
    "            return\n",
    "        \n",
    "        slow = fast = head\n",
    "        while fast and fast.next:\n",
    "            slow = slow.next\n",
    "            fast = fast.next.next\n",
    "        \n",
    "        second_list = slow.next\n",
    "        slow.next = None\n",
    "        \n",
    "        second_list = self.reverse_split_list(second_list)\n",
    "        \n",
    "        first_list = head\n",
    "        while first_list and second_list:\n",
    "            temp1 = first_list.next\n",
    "            temp2 = second_list.next\n",
    "            \n",
    "            first_list.next = second_list\n",
    "            second_list.next = temp1\n",
    "            \n",
    "            first_list = temp1\n",
    "            second_list = temp2\n"
   ]
  },
  {
   "cell_type": "markdown",
   "metadata": {},
   "source": [
    "### 5.Delete the Middle Node of a Linked List"
   ]
  },
  {
   "cell_type": "code",
   "execution_count": 44,
   "metadata": {},
   "outputs": [],
   "source": [
    "class Solution:\n",
    "    def length_list(self,head:ListNode)-> int:\n",
    "        total=0\n",
    "        cur=head\n",
    "        while cur:\n",
    "            total+=1\n",
    "            cur=cur.next\n",
    "        return total\n",
    "\n",
    "    def deleteMiddle(self, head: Optional[ListNode]) -> Optional[ListNode]:\n",
    "        n = self.length_list(head)\n",
    "        mid=n//2\n",
    "        cur=head\n",
    "        cur_index=0\n",
    "        if mid==0:\n",
    "            return head.next    \n",
    "        while cur:\n",
    "            if cur_index==mid-1:\n",
    "                cur.next=cur.next.next\n",
    "                break\n",
    "            cur=cur.next\n",
    "            cur_index+=1\n",
    "        return head"
   ]
  },
  {
   "cell_type": "code",
   "execution_count": 45,
   "metadata": {},
   "outputs": [],
   "source": [
    "class Solution:\n",
    "    def deleteMiddle(self, head: Optional[ListNode]) -> Optional[ListNode]:\n",
    "        if not head and head.next:\n",
    "            return None\n",
    "        slow=head\n",
    "        fast=head\n",
    "        prev=None\n",
    "\n",
    "        while fast and fast.next:\n",
    "            prev=slow\n",
    "            slow=slow.next\n",
    "            fast=fast.next.next\n",
    "        if prev is None:\n",
    "            return head.next\n",
    "        prev.next=slow.next\n",
    "        return head"
   ]
  },
  {
   "cell_type": "markdown",
   "metadata": {},
   "source": [
    "### 6.REMOVE DUPLICATES"
   ]
  },
  {
   "cell_type": "code",
   "execution_count": 46,
   "metadata": {},
   "outputs": [],
   "source": [
    "class Solution:\n",
    "    def deleteDuplicates(self, head: Optional[ListNode]) -> Optional[ListNode]:\n",
    "        cur=head\n",
    "        if head is None:\n",
    "            return head\n",
    "        while cur and cur.next:\n",
    "            if cur.val==cur.next.val:\n",
    "                cur.next=cur.next.next\n",
    "            else:\n",
    "                cur=cur.next\n",
    "        return head\n",
    "        "
   ]
  },
  {
   "cell_type": "markdown",
   "metadata": {},
   "source": [
    "### 7.MERGE TWO SORTED LIST"
   ]
  },
  {
   "cell_type": "code",
   "execution_count": 47,
   "metadata": {},
   "outputs": [],
   "source": [
    "class Solution:\n",
    "    def mergeTwoLists(self, list1: Optional[ListNode], list2: Optional[ListNode]) -> Optional[ListNode]:\n",
    "        dummy=ListNode()\n",
    "        cur=dummy\n",
    "\n",
    "        l1=list1\n",
    "        l2=list2\n",
    "\n",
    "        while l1 and l2:\n",
    "            if l1.val<=l2.val:\n",
    "                cur.next=l1\n",
    "                l1=l1.next\n",
    "            else:\n",
    "                cur.next=l2\n",
    "                l2=l2.next\n",
    "            cur=cur.next\n",
    "        if l1:\n",
    "            cur.next=l1\n",
    "        if l2:\n",
    "            cur.next=l2\n",
    "        return dummy.next"
   ]
  },
  {
   "cell_type": "markdown",
   "metadata": {},
   "source": [
    "### 8.INTERSECTION OF TWO LIST"
   ]
  },
  {
   "cell_type": "code",
   "execution_count": 48,
   "metadata": {},
   "outputs": [],
   "source": [
    "class Solution:\n",
    "    def list_length(self,head:ListNode)->int:\n",
    "        total=0\n",
    "        cur=head\n",
    "        while cur:\n",
    "            total+=1\n",
    "            cur=cur.next\n",
    "        return total\n",
    "\n",
    "    def getIntersectionNode(self, headA: ListNode, headB: ListNode) -> Optional[ListNode]:\n",
    "        A=self.list_length(headA)\n",
    "        B=self.list_length(headB)\n",
    "\n",
    "        if A>B:\n",
    "            for _ in range(A-B):\n",
    "                headA=headA.next\n",
    "\n",
    "        elif B>A:\n",
    "            for _ in range(B-A):\n",
    "                headB=headB.next\n",
    "        else:\n",
    "            pass\n",
    "        while headA and headB:\n",
    "            if headA==headB:\n",
    "                return headA\n",
    "            headA=headA.next\n",
    "            headB=headB.next\n",
    "        return None"
   ]
  },
  {
   "cell_type": "markdown",
   "metadata": {},
   "source": [
    "### 9.PALINDROME LIST"
   ]
  },
  {
   "cell_type": "code",
   "execution_count": 49,
   "metadata": {},
   "outputs": [],
   "source": [
    "class Solution:\n",
    "    def isPalindrome(self, head: Optional[ListNode]) -> bool:\n",
    "        if not head or not head.next:\n",
    "            return True\n",
    "        slow,fast=head,head\n",
    "\n",
    "        while fast and fast.next:\n",
    "            slow=slow.next\n",
    "            fast=fast.next.next\n",
    "        second=slow\n",
    "\n",
    "        prev=None\n",
    "        while second:\n",
    "            next_node=second.next\n",
    "            second.next=prev\n",
    "            prev=second\n",
    "            second=next_node\n",
    "        second=prev\n",
    "        \n",
    "        first=head\n",
    "        while second:\n",
    "            if first.val!=second.val:\n",
    "                return False\n",
    "            first=first.next\n",
    "            second=second.next\n",
    "        return True"
   ]
  },
  {
   "cell_type": "markdown",
   "metadata": {},
   "source": [
    "### 10.REVERSE LINKED LIST"
   ]
  },
  {
   "cell_type": "code",
   "execution_count": 50,
   "metadata": {},
   "outputs": [],
   "source": [
    "class Solution:\n",
    "    def reverseList(self, head: Optional[ListNode]) -> Optional[ListNode]:\n",
    "        \n",
    "        prev=None\n",
    "        cur=head\n",
    "        while cur:\n",
    "            next_node=cur.next\n",
    "            cur.next=prev\n",
    "            prev=cur\n",
    "            cur=next_node\n",
    "        \n",
    "        return prev"
   ]
  },
  {
   "cell_type": "markdown",
   "metadata": {},
   "source": [
    "### 11.MIDDLE OF THE LINKED LIST(876)"
   ]
  },
  {
   "cell_type": "code",
   "execution_count": 51,
   "metadata": {},
   "outputs": [],
   "source": [
    "class Solution:\n",
    "    def middleNode(self, head: Optional[ListNode]) -> Optional[ListNode]:\n",
    "        list=[]\n",
    "        while head:\n",
    "            list.append(head)\n",
    "            head=head.next\n",
    "        return list[len(list)//2]"
   ]
  },
  {
   "cell_type": "code",
   "execution_count": 52,
   "metadata": {},
   "outputs": [],
   "source": [
    "class Solution:\n",
    "    def middleNode(self, head: Optional[ListNode]) -> Optional[ListNode]:\n",
    "        slow=fast=head\n",
    "        while fast and fast.next:\n",
    "            slow=slow.next\n",
    "            fast=fast.next.next\n",
    "        return slow"
   ]
  },
  {
   "cell_type": "markdown",
   "metadata": {},
   "source": [
    "### 12.SWAP NODES IN PARIS"
   ]
  },
  {
   "cell_type": "code",
   "execution_count": 53,
   "metadata": {},
   "outputs": [],
   "source": [
    "class Solution:\n",
    "    def swapPairs(self, head: Optional[ListNode]) -> Optional[ListNode]:\n",
    "        dummy=ListNode(0)\n",
    "        dummy.next=head\n",
    "        prev=dummy\n",
    "        while prev.next and prev.next.next:\n",
    "            first=prev.next\n",
    "            second= first.next\n",
    "\n",
    "            first.next=second.next\n",
    "            second.next=first\n",
    "            prev.next=second\n",
    "\n",
    "            prev=first\n",
    "        return dummy.next\n"
   ]
  },
  {
   "cell_type": "markdown",
   "metadata": {},
   "source": [
    "### 13."
   ]
  },
  {
   "cell_type": "code",
   "execution_count": null,
   "metadata": {},
   "outputs": [],
   "source": []
  }
 ],
 "metadata": {
  "kernelspec": {
   "display_name": "Python 3",
   "language": "python",
   "name": "python3"
  },
  "language_info": {
   "codemirror_mode": {
    "name": "ipython",
    "version": 3
   },
   "file_extension": ".py",
   "mimetype": "text/x-python",
   "name": "python",
   "nbconvert_exporter": "python",
   "pygments_lexer": "ipython3",
   "version": "3.9.6"
  }
 },
 "nbformat": 4,
 "nbformat_minor": 2
}
